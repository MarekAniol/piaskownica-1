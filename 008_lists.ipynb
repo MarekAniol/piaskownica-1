{
 "cells": [
  {
   "cell_type": "code",
   "execution_count": 19,
   "metadata": {},
   "outputs": [
    {
     "name": "stdout",
     "output_type": "stream",
     "text": [
      "Lista: ['a', 'b', 'c', 'd']\n",
      "Największy element: a\n"
     ]
    }
   ],
   "source": [
    "lista = ['a','b','c','d']\n",
    "\n",
    "najwiekszy_element = min(lista)\n",
    "print('Lista:', lista)\n",
    "print('Największy element:', najwiekszy_element)"
   ]
  },
  {
   "cell_type": "code",
   "execution_count": 29,
   "metadata": {},
   "outputs": [
    {
     "name": "stdout",
     "output_type": "stream",
     "text": [
      "{1, 2, 3, 4, 5} <class 'set'>\n",
      "c\n"
     ]
    }
   ],
   "source": [
    "przykladowy_set = {1, 2, 3, 3, 4, 4, 5}\n",
    "print(przykladowy_set, type(przykladowy_set))\n",
    "indeks = 2\n",
    "element = lista[indeks]\n",
    "print(element)"
   ]
  },
  {
   "cell_type": "code",
   "execution_count": 32,
   "metadata": {},
   "outputs": [],
   "source": [
    "string = 'ala ma kota'\n",
    "lista_1 = ['a', 'l', 'a', ' ', 'm', 'a', ' ', 'k', 'o', 't', 'a']\n",
    "lista_2 = ['ala', ' ', 'ma', ' ', 'kota']"
   ]
  },
  {
   "cell_type": "code",
   "execution_count": 45,
   "metadata": {},
   "outputs": [
    {
     "name": "stdout",
     "output_type": "stream",
     "text": [
      "a\n",
      "a\n",
      "ma\n"
     ]
    }
   ],
   "source": [
    "indeks = 2\n",
    "print(string[indeks])\n",
    "print(lista_1[indeks])\n",
    "print(lista_2[indeks])"
   ]
  },
  {
   "cell_type": "code",
   "execution_count": 54,
   "metadata": {},
   "outputs": [
    {
     "name": "stdout",
     "output_type": "stream",
     "text": [
      "['j', 'i', 'h', 'g', 'f', 'e', 'd', 'c', 'b', 'a']\n"
     ]
    }
   ],
   "source": [
    "lista = ['a','b','c','d','e','f','g','h','i','j']\n",
    "\n",
    "indeks_od = 2\n",
    "indeks_do = 5\n",
    "\n",
    "lista[indeks_od:indeks_do]\n",
    "lista.reverse()\n",
    "print(lista)"
   ]
  },
  {
   "cell_type": "code",
   "execution_count": null,
   "metadata": {},
   "outputs": [],
   "source": []
  }
 ],
 "metadata": {
  "interpreter": {
   "hash": "31f2aee4e71d21fbe5cf8b01ff0e069b9275f58929596ceb00d14d90e3e16cd6"
  },
  "kernelspec": {
   "display_name": "Python 3.6.9 64-bit",
   "language": "python",
   "name": "python3"
  },
  "language_info": {
   "codemirror_mode": {
    "name": "ipython",
    "version": 3
   },
   "file_extension": ".py",
   "mimetype": "text/x-python",
   "name": "python",
   "nbconvert_exporter": "python",
   "pygments_lexer": "ipython3",
   "version": "3.6.9"
  },
  "orig_nbformat": 4
 },
 "nbformat": 4,
 "nbformat_minor": 2
}
