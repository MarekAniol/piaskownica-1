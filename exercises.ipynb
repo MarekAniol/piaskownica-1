{
 "cells": [
  {
   "cell_type": "markdown",
   "metadata": {},
   "source": [
    "# -----------------------> EXERCISES WITH [LISTS] IN PYTHON "
   ]
  },
  {
   "cell_type": "markdown",
   "metadata": {},
   "source": [
    "#####  '''<br> Banxter<br> '''"
   ]
  },
  {
   "cell_type": "markdown",
   "metadata": {},
   "source": [
    "# 1. Reverse a list"
   ]
  },
  {
   "cell_type": "code",
   "execution_count": 2,
   "metadata": {},
   "outputs": [],
   "source": [
    "list_1 = ['1st', '2nd', '3rd']"
   ]
  },
  {
   "cell_type": "markdown",
   "metadata": {},
   "source": [
    "### 1.1 Expected Output\n",
    "\n",
    "['3rd', '2nd', '1st']"
   ]
  },
  {
   "cell_type": "code",
   "execution_count": null,
   "metadata": {},
   "outputs": [],
   "source": [
    "# Your Code:\n"
   ]
  },
  {
   "cell_type": "markdown",
   "metadata": {},
   "source": [
    "# -----------------------------------------------------------------------"
   ]
  },
  {
   "cell_type": "markdown",
   "metadata": {},
   "source": [
    "# 2. Concatenate two lists index-wise"
   ]
  },
  {
   "cell_type": "code",
   "execution_count": 16,
   "metadata": {},
   "outputs": [
    {
     "name": "stdout",
     "output_type": "stream",
     "text": [
      "The original list 1 is : ['M', 'fav', 'Pyt', 'less', 'ar', 'x']\n",
      "The original list 2 is : ['y', 'ourite', 'hon', 'ons', 'e', 'D.']\n"
     ]
    }
   ],
   "source": [
    "list_1 = [\"M\", \"fav\", \"Pyt\", \"less\", 'ar', 'x']\n",
    "list_2 = [\"y\", \"ourite\", \"hon\", \"ons\", 'e', 'D.']\n",
    "print (\"The original list 1 is : \" + str(list_1))\n",
    "print (\"The original list 2 is : \" + str(list_2))"
   ]
  },
  {
   "cell_type": "markdown",
   "metadata": {},
   "source": [
    "### 2.1 Expected output\n",
    "\n",
    "The list after element concatenation is : ['My', 'favourite', 'Python', 'lessons', 'are', 'xD.']"
   ]
  },
  {
   "cell_type": "code",
   "execution_count": null,
   "metadata": {},
   "outputs": [],
   "source": [
    "# Your code:\n"
   ]
  },
  {
   "cell_type": "markdown",
   "metadata": {},
   "source": [
    "# -----------------------------------------------------------------------"
   ]
  },
  {
   "cell_type": "markdown",
   "metadata": {},
   "source": [
    "# 3. Turn every item of a list into its square"
   ]
  },
  {
   "cell_type": "code",
   "execution_count": 34,
   "metadata": {},
   "outputs": [],
   "source": [
    "numbers = [2, 3, 4, 5, 6]"
   ]
  },
  {
   "cell_type": "markdown",
   "metadata": {},
   "source": [
    "### 3.1 Expected output\n",
    "\n",
    "[4, 9, 16, 25, 36]"
   ]
  },
  {
   "cell_type": "code",
   "execution_count": null,
   "metadata": {},
   "outputs": [],
   "source": [
    "# Your code:"
   ]
  },
  {
   "cell_type": "markdown",
   "metadata": {},
   "source": [
    "# -----------------------------------------------------------------------"
   ]
  },
  {
   "cell_type": "markdown",
   "metadata": {},
   "source": [
    "# 4. Concatenate two lists in the following order"
   ]
  },
  {
   "cell_type": "code",
   "execution_count": 48,
   "metadata": {},
   "outputs": [],
   "source": [
    "list_1 = [\"Good \", \"Bad \"]\n",
    "list_2 = [\"idea\", \"guy\"]"
   ]
  },
  {
   "cell_type": "markdown",
   "metadata": {},
   "source": [
    "### 4.1 Expected output\n",
    "\n",
    "['Good idea', 'Good guy', 'Bad idea', 'Bad guy']"
   ]
  },
  {
   "cell_type": "code",
   "execution_count": null,
   "metadata": {},
   "outputs": [],
   "source": [
    "# Your code:"
   ]
  },
  {
   "cell_type": "markdown",
   "metadata": {},
   "source": [
    "# -----------------------------------------------------------------------"
   ]
  },
  {
   "cell_type": "markdown",
   "metadata": {},
   "source": [
    "# 5. Iterate both lists simultaneously"
   ]
  },
  {
   "cell_type": "code",
   "execution_count": 3,
   "metadata": {},
   "outputs": [],
   "source": [
    "list_1 = [1, 2, 3, 4]\n",
    "list_2 = [10, 20, 30, 40]"
   ]
  },
  {
   "cell_type": "markdown",
   "metadata": {},
   "source": [
    "### 5.1 Expected Output\n",
    "\n",
    "1 40<br>\n",
    "2 30<br>\n",
    "3 20<br>\n",
    "4 10"
   ]
  },
  {
   "cell_type": "code",
   "execution_count": null,
   "metadata": {},
   "outputs": [],
   "source": [
    "# Your code:"
   ]
  },
  {
   "cell_type": "markdown",
   "metadata": {},
   "source": [
    "# -----------------------------------------------------------------------"
   ]
  },
  {
   "cell_type": "markdown",
   "metadata": {},
   "source": [
    "# S <br>\n",
    "# O <br>\n",
    "# L <br>\n",
    "# U <br>\n",
    "# T <br>\n",
    "# I <br>\n",
    "# O <br>\n",
    "# N <br>\n",
    "# S <br>"
   ]
  },
  {
   "cell_type": "code",
   "execution_count": null,
   "metadata": {},
   "outputs": [],
   "source": [
    "# ### Ex. 1\n",
    "\n",
    "# list_1.reverse()\n",
    "# print(list_1)\n",
    "\n",
    "# ### Ex. 2\n",
    "\n",
    "# list_3 = [l_1 + l_2 for l_1, l_2 in zip(list_1, list_2)]\n",
    "# print(\"The list after element concatenation is : \" +  str(list_3))\n",
    "\n",
    "# ### Ex. 3\n",
    "\n",
    "# squared_numbers = [number ** 2 for number in numbers]\n",
    "# print(squared_numbers)\n",
    "\n",
    "# ### Ex. 4\n",
    "\n",
    "# list_3 = [x1 + x2 for x1 in list_1 for x2 in list_2]\n",
    "\n",
    "# ### Ex. 5\n",
    "\n",
    "# for x1,x2 in zip(list_1,list_2[::-1]):\n",
    "#     print(x1, x2)"
   ]
  }
 ],
 "metadata": {
  "interpreter": {
   "hash": "31f2aee4e71d21fbe5cf8b01ff0e069b9275f58929596ceb00d14d90e3e16cd6"
  },
  "kernelspec": {
   "display_name": "Python 3.6.9 64-bit",
   "language": "python",
   "name": "python3"
  },
  "language_info": {
   "codemirror_mode": {
    "name": "ipython",
    "version": 3
   },
   "file_extension": ".py",
   "mimetype": "text/x-python",
   "name": "python",
   "nbconvert_exporter": "python",
   "pygments_lexer": "ipython3",
   "version": "3.6.9"
  },
  "orig_nbformat": 4
 },
 "nbformat": 4,
 "nbformat_minor": 2
}
